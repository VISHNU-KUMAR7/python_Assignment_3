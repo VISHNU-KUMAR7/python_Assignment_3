{
 "cells": [
  {
   "cell_type": "code",
   "execution_count": 2,
   "metadata": {},
   "outputs": [],
   "source": [
    "def compute():\n",
    "    try:\n",
    "        num = 5\n",
    "        result = num/0\n",
    "    except Exception as e:\n",
    "        print(e)\n",
    "        \n",
    "compute()  "
   ]
  },
  {
   "cell_type": "code",
   "execution_count": 7,
   "metadata": {},
   "outputs": [
    {
     "name": "stdout",
     "output_type": "stream",
     "text": [
      "Americans play Baseball \n",
      "Americans play Cricket \n",
      "Americans watch Baseball \n",
      "Americans watch Cricket \n",
      "indians play Baseball \n",
      "indians play Cricket \n",
      "indians watch Baseball \n",
      "indians watch Cricket \n"
     ]
    }
   ],
   "source": [
    "subject = [\"Americans\",\"indians\"]\n",
    "verbs = [\"play\",\"watch\"]\n",
    "objects = [\"Baseball\",\"Cricket\"]\n",
    "for s in subject:\n",
    "    for v in verbs:\n",
    "        for o in objects:\n",
    "            print (s,v,o,end = \" \")\n",
    "            print()\n",
    "        "
   ]
  },
  {
   "cell_type": "code",
   "execution_count": 8,
   "metadata": {},
   "outputs": [],
   "source": [
    "smallest = -1\n",
    "if smallest is None :\n",
    "     print(smallest)"
   ]
  },
  {
   "cell_type": "code",
   "execution_count": null,
   "metadata": {},
   "outputs": [
    {
     "name": "stdout",
     "output_type": "stream",
     "text": [
      "Enter 10\n",
      "10 10\n",
      "Enter 2\n",
      "10 2\n",
      "Enter 7\n",
      "10 2\n",
      "Enter 4\n",
      "10 2\n"
     ]
    }
   ],
   "source": [
    "max = 0\n",
    "min = 0\n",
    "while True:\n",
    "    try:\n",
    "        num = input(\"Enter \")\n",
    "        if (num == \"done\"):\n",
    "            break\n",
    "        elif (num.isdigit() == True):\n",
    "            num = int(num)\n",
    "            if(max == 0 and min == 0):\n",
    "                max = num\n",
    "                min = num\n",
    "            elif(max <num and min<num):\n",
    "                max = num\n",
    "            elif (max >num and min<num):\n",
    "                min = min\n",
    "                max = max\n",
    "            elif (max >num and min>num):\n",
    "                min = num    \n",
    "        else:\n",
    "            raise ValueError (\"Invalid Input\")\n",
    "    except ValueError as e:\n",
    "        print(e)\n",
    "        continue\n",
    "    except Exception as e:\n",
    "        print(e)\n",
    "        continue\n",
    "print(max,min)              "
   ]
  },
  {
   "cell_type": "code",
   "execution_count": 1,
   "metadata": {},
   "outputs": [
    {
     "data": {
      "text/plain": [
       "<function dir>"
      ]
     },
     "execution_count": 1,
     "metadata": {},
     "output_type": "execute_result"
    }
   ],
   "source": [
    "dir\n"
   ]
  },
  {
   "cell_type": "code",
   "execution_count": 2,
   "metadata": {},
   "outputs": [
    {
     "ename": "NameError",
     "evalue": "name 'pid' is not defined",
     "output_type": "error",
     "traceback": [
      "\u001b[1;31m---------------------------------------------------------------------------\u001b[0m",
      "\u001b[1;31mNameError\u001b[0m                                 Traceback (most recent call last)",
      "\u001b[1;32m<ipython-input-2-dd26be60f640>\u001b[0m in \u001b[0;36m<module>\u001b[1;34m\u001b[0m\n\u001b[1;32m----> 1\u001b[1;33m \u001b[0mpid\u001b[0m\u001b[1;33m\u001b[0m\u001b[1;33m\u001b[0m\u001b[0m\n\u001b[0m",
      "\u001b[1;31mNameError\u001b[0m: name 'pid' is not defined"
     ]
    }
   ],
   "source": [
    "pid\n"
   ]
  },
  {
   "cell_type": "code",
   "execution_count": null,
   "metadata": {},
   "outputs": [],
   "source": []
  }
 ],
 "metadata": {
  "kernelspec": {
   "display_name": "Python 3",
   "language": "python",
   "name": "python3"
  },
  "language_info": {
   "codemirror_mode": {
    "name": "ipython",
    "version": 3
   },
   "file_extension": ".py",
   "mimetype": "text/x-python",
   "name": "python",
   "nbconvert_exporter": "python",
   "pygments_lexer": "ipython3",
   "version": "3.7.7"
  }
 },
 "nbformat": 4,
 "nbformat_minor": 4
}
